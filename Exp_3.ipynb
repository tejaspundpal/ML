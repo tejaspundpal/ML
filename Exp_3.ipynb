{
 "cells": [
  {
   "cell_type": "code",
   "execution_count": 8,
   "metadata": {},
   "outputs": [
    {
     "name": "stdout",
     "output_type": "stream",
     "text": [
      "<class 'numpy.ndarray'>\n",
      "(3,)\n",
      "15 25 35\n",
      "[ 5 25 35]\n",
      "(2, 3)\n",
      "1 2 4\n",
      "[[0. 0.]\n",
      " [0. 0.]]\n",
      "[[1. 1.]]\n",
      "[[7 7]\n",
      " [7 7]]\n"
     ]
    }
   ],
   "source": [
    "import numpy as np\n",
    "\n",
    "a = np.array([15, 25, 35]) \n",
    "print(type(a)) \n",
    "print(a.shape) \n",
    "print(a[0], a[1], a[2]) \n",
    "a[0] = 5 \n",
    "print(a) \n",
    "\n",
    "b = np.array([[1,2,3],[4,5,6]]) \n",
    "print(b.shape) \n",
    "print(b[0, 0], b[0, 1], b[1, 0]) \n",
    "\n",
    "a = np.zeros((2,2)) \n",
    "print(a) \n",
    " \n",
    "b = np.ones((1,2)) \n",
    "print(b) \n",
    "\n",
    "c = np.full((2,2), 7) \n",
    "print(c)"
   ]
  },
  {
   "cell_type": "code",
   "execution_count": 6,
   "metadata": {},
   "outputs": [
    {
     "name": "stdout",
     "output_type": "stream",
     "text": [
      "[[1. 0.]\n",
      " [0. 1.]]\n",
      "[[0.81448666 0.66654231]\n",
      " [0.05050932 0.23938284]]\n"
     ]
    },
    {
     "data": {
      "text/plain": [
       "matrix([[ 5, 25],\n",
       "        [45, 65]])"
      ]
     },
     "execution_count": 6,
     "metadata": {},
     "output_type": "execute_result"
    }
   ],
   "source": [
    "d = np.eye(2) \n",
    "print(d) \n",
    "\n",
    "e = np.random.random((2,2)) \n",
    "print(e) \n",
    "\n",
    "np.array(np.mat('2 23; 30 52')) \n",
    "np.array(np.mat('5 25; 45 65'), subok=True) "
   ]
  },
  {
   "cell_type": "code",
   "execution_count": 7,
   "metadata": {},
   "outputs": [
    {
     "name": "stdout",
     "output_type": "stream",
     "text": [
      "[2 3 4]\n",
      "[[3 4 5]\n",
      " [4 5 6]]\n",
      "[2 4 5]\n",
      "[3 4 5]\n",
      "[[2 3]\n",
      " [4 5]\n",
      " [5 6]]\n",
      "[1 4 5]\n",
      "[ 6  7  8  9 10 11]\n"
     ]
    }
   ],
   "source": [
    "\n",
    "a = np.arange(10) \n",
    "print (a[2:5]) \n",
    "\n",
    "a = np.array([[1,2,3],[3,4,5],[4,5,6]]) \n",
    "print (a[1:]) \n",
    "\n",
    "a = np.array([[1,2,3],[3,4,5],[4,5,6]])\n",
    "print (a[...,1]) \n",
    "print (a[1,...]) \n",
    "print (a[...,1:])\n",
    "\n",
    "x = np.array([[1, 2], [3, 4], [5, 6]]) \n",
    "y = x[[0,1,2], [0,1,0]]\n",
    "print (y) \n",
    "\n",
    "x = np.array([[ 0, 1, 2],[ 3, 4, 5],[ 6, 7, 8],[ 9, 10, 11]])\n",
    "print (x[x > 5]) "
   ]
  },
  {
   "cell_type": "code",
   "execution_count": null,
   "metadata": {},
   "outputs": [],
   "source": []
  }
 ],
 "metadata": {
  "kernelspec": {
   "display_name": "Python 3",
   "language": "python",
   "name": "python3"
  },
  "language_info": {
   "codemirror_mode": {
    "name": "ipython",
    "version": 3
   },
   "file_extension": ".py",
   "mimetype": "text/x-python",
   "name": "python",
   "nbconvert_exporter": "python",
   "pygments_lexer": "ipython3",
   "version": "3.8.5"
  }
 },
 "nbformat": 4,
 "nbformat_minor": 4
}
