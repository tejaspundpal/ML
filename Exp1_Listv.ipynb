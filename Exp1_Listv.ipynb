{
 "cells": [
  {
   "cell_type": "code",
   "execution_count": 4,
   "id": "56b9fafc",
   "metadata": {},
   "outputs": [],
   "source": [
    " list1=[\"a\",\"b\",\"c\",\"d\"]"
   ]
  },
  {
   "cell_type": "code",
   "execution_count": 5,
   "id": "1032f5ae",
   "metadata": {},
   "outputs": [],
   "source": [
    "list2=[\"vinu\",2002,29,\"may\"] \n"
   ]
  },
  {
   "cell_type": "code",
   "execution_count": 7,
   "id": "bb956d5e",
   "metadata": {},
   "outputs": [
    {
     "name": "stdout",
     "output_type": "stream",
     "text": [
      "list1[0]: a\n"
     ]
    }
   ],
   "source": [
    "print(\"list1[0]:\",list1[0])"
   ]
  },
  {
   "cell_type": "code",
   "execution_count": 8,
   "id": "549ab2b5",
   "metadata": {},
   "outputs": [
    {
     "name": "stdout",
     "output_type": "stream",
     "text": [
      "list2[1:] [2002, 29, 'may']\n"
     ]
    }
   ],
   "source": [
    "print(\"list2[1:]\",list2[1:])"
   ]
  },
  {
   "cell_type": "code",
   "execution_count": 9,
   "id": "cfcac7fb",
   "metadata": {},
   "outputs": [
    {
     "name": "stdout",
     "output_type": "stream",
     "text": [
      "list2[0:] ['vinu', 2002, 29, 'may']\n"
     ]
    }
   ],
   "source": [
    "print(\"list2[0:]\",list2[0:])"
   ]
  },
  {
   "cell_type": "code",
   "execution_count": 11,
   "id": "cb82147f",
   "metadata": {},
   "outputs": [],
   "source": [
    "list1[0]=\"v\"\n"
   ]
  },
  {
   "cell_type": "code",
   "execution_count": 12,
   "id": "ee84c7e5",
   "metadata": {},
   "outputs": [
    {
     "name": "stdout",
     "output_type": "stream",
     "text": [
      "list1[0:] ['v', 'b', 'c', 'd']\n"
     ]
    }
   ],
   "source": [
    "print(\"list1[0:]\",list1[0:])"
   ]
  },
  {
   "cell_type": "code",
   "execution_count": 13,
   "id": "eb0f791d",
   "metadata": {},
   "outputs": [],
   "source": [
    "del list1[2]"
   ]
  },
  {
   "cell_type": "code",
   "execution_count": 14,
   "id": "5aa3b466",
   "metadata": {},
   "outputs": [
    {
     "name": "stdout",
     "output_type": "stream",
     "text": [
      "list1[0:] ['v', 'b', 'd']\n"
     ]
    }
   ],
   "source": [
    "print(\"list1[0:]\",list1[0:])"
   ]
  },
  {
   "cell_type": "code",
   "execution_count": 15,
   "id": "a6f1d13a",
   "metadata": {},
   "outputs": [
    {
     "data": {
      "text/plain": [
       "3"
      ]
     },
     "execution_count": 15,
     "metadata": {},
     "output_type": "execute_result"
    }
   ],
   "source": [
    "len(list1)"
   ]
  },
  {
   "cell_type": "code",
   "execution_count": 18,
   "id": "129af70c",
   "metadata": {},
   "outputs": [
    {
     "data": {
      "text/plain": [
       "5"
      ]
     },
     "execution_count": 18,
     "metadata": {},
     "output_type": "execute_result"
    }
   ],
   "source": [
    "len([1,2,3,4,5])"
   ]
  },
  {
   "cell_type": "code",
   "execution_count": 19,
   "id": "77b16507",
   "metadata": {},
   "outputs": [
    {
     "data": {
      "text/plain": [
       "[1, 2, 3, 4, 5, 6, 7, 8]"
      ]
     },
     "execution_count": 19,
     "metadata": {},
     "output_type": "execute_result"
    }
   ],
   "source": [
    "[1,2,3,4] + [5,6,7,8]"
   ]
  },
  {
   "cell_type": "code",
   "execution_count": 20,
   "id": "fa41c06b",
   "metadata": {},
   "outputs": [
    {
     "data": {
      "text/plain": [
       "['hello python...', 'hello python...', 'hello python...', 'hello python...']"
      ]
     },
     "execution_count": 20,
     "metadata": {},
     "output_type": "execute_result"
    }
   ],
   "source": [
    "[\"hello python...\"] *4"
   ]
  },
  {
   "cell_type": "code",
   "execution_count": 21,
   "id": "3835ce29",
   "metadata": {},
   "outputs": [
    {
     "data": {
      "text/plain": [
       "True"
      ]
     },
     "execution_count": 21,
     "metadata": {},
     "output_type": "execute_result"
    }
   ],
   "source": [
    "3 in [1,2,3]"
   ]
  },
  {
   "cell_type": "code",
   "execution_count": 22,
   "id": "6a637b9a",
   "metadata": {},
   "outputs": [
    {
     "data": {
      "text/plain": [
       "True"
      ]
     },
     "execution_count": 22,
     "metadata": {},
     "output_type": "execute_result"
    }
   ],
   "source": [
    "2 in [1,2,3]"
   ]
  },
  {
   "cell_type": "code",
   "execution_count": 23,
   "id": "2688d3e0",
   "metadata": {},
   "outputs": [
    {
     "data": {
      "text/plain": [
       "False"
      ]
     },
     "execution_count": 23,
     "metadata": {},
     "output_type": "execute_result"
    }
   ],
   "source": [
    "5 in [1,2,3]"
   ]
  },
  {
   "cell_type": "code",
   "execution_count": 25,
   "id": "805b53a4",
   "metadata": {},
   "outputs": [
    {
     "name": "stdout",
     "output_type": "stream",
     "text": [
      "1\n",
      "2\n",
      "3\n",
      "4\n",
      "5\n"
     ]
    }
   ],
   "source": [
    "for x in [1,2,3,4,5]:\n",
    " print(x)"
   ]
  },
  {
   "cell_type": "code",
   "execution_count": 30,
   "id": "7d308836",
   "metadata": {},
   "outputs": [
    {
     "name": "stdout",
     "output_type": "stream",
     "text": [
      "4\n",
      "5\n",
      "6\n",
      "7\n",
      "8\n",
      "9\n",
      "0\n"
     ]
    }
   ],
   "source": [
    "for x in [4,5,6,7,8,9,0]:\n",
    "    print(x)"
   ]
  },
  {
   "cell_type": "code",
   "execution_count": 32,
   "id": "4320c44a",
   "metadata": {},
   "outputs": [
    {
     "data": {
      "text/plain": [
       "4"
      ]
     },
     "execution_count": 32,
     "metadata": {},
     "output_type": "execute_result"
    }
   ],
   "source": [
    "len(list2)"
   ]
  },
  {
   "cell_type": "code",
   "execution_count": 33,
   "id": "e48c9a12",
   "metadata": {},
   "outputs": [],
   "source": [
    "list3=[50,100,101,120,150,200]"
   ]
  },
  {
   "cell_type": "code",
   "execution_count": 34,
   "id": "b6adf46c",
   "metadata": {},
   "outputs": [
    {
     "data": {
      "text/plain": [
       "200"
      ]
     },
     "execution_count": 34,
     "metadata": {},
     "output_type": "execute_result"
    }
   ],
   "source": [
    "max(list3)"
   ]
  },
  {
   "cell_type": "code",
   "execution_count": 35,
   "id": "3f334673",
   "metadata": {},
   "outputs": [
    {
     "data": {
      "text/plain": [
       "50"
      ]
     },
     "execution_count": 35,
     "metadata": {},
     "output_type": "execute_result"
    }
   ],
   "source": [
    "min(list3)"
   ]
  },
  {
   "cell_type": "code",
   "execution_count": 36,
   "id": "a786da77",
   "metadata": {},
   "outputs": [],
   "source": [
    "atupple=(1,2,3,4,5)"
   ]
  },
  {
   "cell_type": "code",
   "execution_count": 37,
   "id": "67d1448a",
   "metadata": {},
   "outputs": [],
   "source": [
    "list4=list(atupple)"
   ]
  },
  {
   "cell_type": "code",
   "execution_count": 38,
   "id": "25b803a4",
   "metadata": {},
   "outputs": [
    {
     "name": "stdout",
     "output_type": "stream",
     "text": [
      "[1, 2, 3, 4, 5]\n"
     ]
    }
   ],
   "source": [
    "print(list4)"
   ]
  },
  {
   "cell_type": "code",
   "execution_count": 39,
   "id": "44872e26",
   "metadata": {},
   "outputs": [],
   "source": [
    "list4.append(6)"
   ]
  },
  {
   "cell_type": "code",
   "execution_count": 40,
   "id": "574e9cdb",
   "metadata": {},
   "outputs": [
    {
     "name": "stdout",
     "output_type": "stream",
     "text": [
      "[1, 2, 3, 4, 5, 6]\n"
     ]
    }
   ],
   "source": [
    "print(list4)"
   ]
  },
  {
   "cell_type": "code",
   "execution_count": 41,
   "id": "e14b6c26",
   "metadata": {},
   "outputs": [],
   "source": [
    "list4.append(\"vinu\")"
   ]
  },
  {
   "cell_type": "code",
   "execution_count": 42,
   "id": "55c896e4",
   "metadata": {},
   "outputs": [
    {
     "name": "stdout",
     "output_type": "stream",
     "text": [
      "[1, 2, 3, 4, 5, 6, 'vinu']\n"
     ]
    }
   ],
   "source": [
    "print(list4)"
   ]
  },
  {
   "cell_type": "code",
   "execution_count": 43,
   "id": "c09e311e",
   "metadata": {},
   "outputs": [
    {
     "data": {
      "text/plain": [
       "1"
      ]
     },
     "execution_count": 43,
     "metadata": {},
     "output_type": "execute_result"
    }
   ],
   "source": [
    "list4.count(4)"
   ]
  },
  {
   "cell_type": "code",
   "execution_count": 44,
   "id": "3ad39636",
   "metadata": {},
   "outputs": [],
   "source": [
    "list4.append(4)"
   ]
  },
  {
   "cell_type": "code",
   "execution_count": 45,
   "id": "785233c4",
   "metadata": {},
   "outputs": [
    {
     "name": "stdout",
     "output_type": "stream",
     "text": [
      "[1, 2, 3, 4, 5, 6, 'vinu', 4]\n"
     ]
    }
   ],
   "source": [
    "print(list4)"
   ]
  },
  {
   "cell_type": "code",
   "execution_count": 46,
   "id": "2f0fcbfa",
   "metadata": {},
   "outputs": [
    {
     "data": {
      "text/plain": [
       "2"
      ]
     },
     "execution_count": 46,
     "metadata": {},
     "output_type": "execute_result"
    }
   ],
   "source": [
    "list4.count(4)"
   ]
  },
  {
   "cell_type": "code",
   "execution_count": 47,
   "id": "d91e4a0a",
   "metadata": {},
   "outputs": [],
   "source": [
    "list4.extend(atupple)"
   ]
  },
  {
   "cell_type": "code",
   "execution_count": 48,
   "id": "f3356387",
   "metadata": {},
   "outputs": [
    {
     "name": "stdout",
     "output_type": "stream",
     "text": [
      "[1, 2, 3, 4, 5, 6, 'vinu', 4, 1, 2, 3, 4, 5]\n"
     ]
    }
   ],
   "source": [
    "print(list4)"
   ]
  },
  {
   "cell_type": "code",
   "execution_count": 51,
   "id": "63d4208c",
   "metadata": {},
   "outputs": [
    {
     "data": {
      "text/plain": [
       "3"
      ]
     },
     "execution_count": 51,
     "metadata": {},
     "output_type": "execute_result"
    }
   ],
   "source": [
    "list4.count(4)"
   ]
  },
  {
   "cell_type": "code",
   "execution_count": 52,
   "id": "9c3e7bc3",
   "metadata": {},
   "outputs": [
    {
     "data": {
      "text/plain": [
       "3"
      ]
     },
     "execution_count": 52,
     "metadata": {},
     "output_type": "execute_result"
    }
   ],
   "source": [
    "list4.index(4)"
   ]
  },
  {
   "cell_type": "markdown",
   "id": "88330293",
   "metadata": {},
   "source": []
  },
  {
   "cell_type": "code",
   "execution_count": 53,
   "id": "70348a02",
   "metadata": {},
   "outputs": [
    {
     "data": {
      "text/plain": [
       "2"
      ]
     },
     "execution_count": 53,
     "metadata": {},
     "output_type": "execute_result"
    }
   ],
   "source": [
    "list4.index(3)"
   ]
  },
  {
   "cell_type": "code",
   "execution_count": 54,
   "id": "5859f8f7",
   "metadata": {},
   "outputs": [],
   "source": [
    "list4.insert(4,\"four\")"
   ]
  },
  {
   "cell_type": "code",
   "execution_count": 55,
   "id": "a98187d3",
   "metadata": {},
   "outputs": [
    {
     "name": "stdout",
     "output_type": "stream",
     "text": [
      "[1, 2, 3, 4, 'four', 5, 6, 'vinu', 4, 1, 2, 3, 4, 5]\n"
     ]
    }
   ],
   "source": [
    "print(list4)"
   ]
  },
  {
   "cell_type": "code",
   "execution_count": 62,
   "id": "b8e72d01",
   "metadata": {},
   "outputs": [
    {
     "data": {
      "text/plain": [
       "5"
      ]
     },
     "execution_count": 62,
     "metadata": {},
     "output_type": "execute_result"
    }
   ],
   "source": [
    " list4.pop()"
   ]
  },
  {
   "cell_type": "code",
   "execution_count": 63,
   "id": "37f34cc8",
   "metadata": {},
   "outputs": [
    {
     "data": {
      "text/plain": [
       "4"
      ]
     },
     "execution_count": 63,
     "metadata": {},
     "output_type": "execute_result"
    }
   ],
   "source": [
    "list4.pop()"
   ]
  },
  {
   "cell_type": "code",
   "execution_count": 64,
   "id": "f1c36e1b",
   "metadata": {},
   "outputs": [
    {
     "name": "stdout",
     "output_type": "stream",
     "text": [
      "[1, 2, 3, 4, 'four', 5, 6, 'vinu', 4, 1, 2, 3]\n"
     ]
    }
   ],
   "source": [
    "print(list4)"
   ]
  },
  {
   "cell_type": "code",
   "execution_count": 65,
   "id": "fa6f4f27",
   "metadata": {},
   "outputs": [],
   "source": [
    "list4.remove(4)"
   ]
  },
  {
   "cell_type": "code",
   "execution_count": 66,
   "id": "987230a9",
   "metadata": {},
   "outputs": [
    {
     "name": "stdout",
     "output_type": "stream",
     "text": [
      "[1, 2, 3, 'four', 5, 6, 'vinu', 4, 1, 2, 3]\n"
     ]
    }
   ],
   "source": [
    "print(list4)"
   ]
  },
  {
   "cell_type": "code",
   "execution_count": 67,
   "id": "7e75c0ad",
   "metadata": {},
   "outputs": [],
   "source": [
    "list4.reverse()"
   ]
  },
  {
   "cell_type": "code",
   "execution_count": 68,
   "id": "ee3e83e5",
   "metadata": {},
   "outputs": [
    {
     "name": "stdout",
     "output_type": "stream",
     "text": [
      "[3, 2, 1, 4, 'vinu', 6, 5, 'four', 3, 2, 1]\n"
     ]
    }
   ],
   "source": [
    "print(list4)"
   ]
  },
  {
   "cell_type": "code",
   "execution_count": 69,
   "id": "a91587f0",
   "metadata": {},
   "outputs": [],
   "source": [
    "tuple1=(1,2,3,4,5)"
   ]
  },
  {
   "cell_type": "code",
   "execution_count": 70,
   "id": "38dd0cdb",
   "metadata": {},
   "outputs": [],
   "source": [
    "tuple2=(\"vinu\",\"ganu\",\"sonu\",\"panu\")"
   ]
  },
  {
   "cell_type": "code",
   "execution_count": 71,
   "id": "0cb13282",
   "metadata": {},
   "outputs": [],
   "source": [
    "tuple3=(1,\"vinu\",2,\"ganu\")"
   ]
  },
  {
   "cell_type": "code",
   "execution_count": 72,
   "id": "a87056f2",
   "metadata": {},
   "outputs": [],
   "source": [
    "tuple4=()"
   ]
  },
  {
   "cell_type": "code",
   "execution_count": 73,
   "id": "2edbe2a9",
   "metadata": {},
   "outputs": [],
   "source": [
    "tuple5=(50,)"
   ]
  },
  {
   "cell_type": "code",
   "execution_count": 74,
   "id": "46ebef13",
   "metadata": {},
   "outputs": [
    {
     "name": "stdout",
     "output_type": "stream",
     "text": [
      "tuple1[0]: 1\n"
     ]
    }
   ],
   "source": [
    "print(\"tuple1[0]:\",tuple1[0])"
   ]
  },
  {
   "cell_type": "code",
   "execution_count": 75,
   "id": "db796ce9",
   "metadata": {},
   "outputs": [
    {
     "name": "stdout",
     "output_type": "stream",
     "text": [
      "tuple2[1]: ganu\n"
     ]
    }
   ],
   "source": [
    "print(\"tuple2[1]:\",tuple2[1])"
   ]
  },
  {
   "cell_type": "code",
   "execution_count": 76,
   "id": "afdc7a4d",
   "metadata": {},
   "outputs": [
    {
     "name": "stdout",
     "output_type": "stream",
     "text": [
      "tuple2[0:] ('vinu', 'ganu', 'sonu', 'panu')\n"
     ]
    }
   ],
   "source": [
    "print(\"tuple2[0:]\",tuple2[0:])"
   ]
  },
  {
   "cell_type": "code",
   "execution_count": 77,
   "id": "80f0ac1f",
   "metadata": {},
   "outputs": [
    {
     "name": "stdout",
     "output_type": "stream",
     "text": [
      "('vinu', 'ganu')\n"
     ]
    }
   ],
   "source": [
    "print(tuple2[:2])"
   ]
  },
  {
   "cell_type": "code",
   "execution_count": 79,
   "id": "ca49df64",
   "metadata": {},
   "outputs": [],
   "source": [
    "del tuple1"
   ]
  },
  {
   "cell_type": "code",
   "execution_count": 81,
   "id": "3c2b1fad",
   "metadata": {},
   "outputs": [
    {
     "data": {
      "text/plain": [
       "8"
      ]
     },
     "execution_count": 81,
     "metadata": {},
     "output_type": "execute_result"
    }
   ],
   "source": [
    "len((1,2,3,4,5,6,7,8))"
   ]
  },
  {
   "cell_type": "code",
   "execution_count": 82,
   "id": "40b415e7",
   "metadata": {},
   "outputs": [
    {
     "data": {
      "text/plain": [
       "(1, 2, 3, 4, 5, 6, 7, 8, 9)"
      ]
     },
     "execution_count": 82,
     "metadata": {},
     "output_type": "execute_result"
    }
   ],
   "source": [
    "(1,2,3,4)+(5,6,7,8,9)"
   ]
  },
  {
   "cell_type": "code",
   "execution_count": 83,
   "id": "39de0fa1",
   "metadata": {},
   "outputs": [
    {
     "data": {
      "text/plain": [
       "'hiiihiiihiiihiii'"
      ]
     },
     "execution_count": 83,
     "metadata": {},
     "output_type": "execute_result"
    }
   ],
   "source": [
    "(\"hiii\")*4"
   ]
  },
  {
   "cell_type": "code",
   "execution_count": 84,
   "id": "7829562a",
   "metadata": {},
   "outputs": [
    {
     "data": {
      "text/plain": [
       "True"
      ]
     },
     "execution_count": 84,
     "metadata": {},
     "output_type": "execute_result"
    }
   ],
   "source": [
    "3 in (1,2,3)"
   ]
  },
  {
   "cell_type": "code",
   "execution_count": 85,
   "id": "e52b293e",
   "metadata": {},
   "outputs": [
    {
     "data": {
      "text/plain": [
       "False"
      ]
     },
     "execution_count": 85,
     "metadata": {},
     "output_type": "execute_result"
    }
   ],
   "source": [
    "4 in (1,2,3)"
   ]
  },
  {
   "cell_type": "code",
   "execution_count": 86,
   "id": "67a7da55",
   "metadata": {},
   "outputs": [
    {
     "name": "stdout",
     "output_type": "stream",
     "text": [
      "1\n",
      "2\n",
      "3\n"
     ]
    }
   ],
   "source": [
    "for x in (1,2,3):\n",
    "    print(x)"
   ]
  },
  {
   "cell_type": "code",
   "execution_count": 88,
   "id": "27234838",
   "metadata": {},
   "outputs": [
    {
     "data": {
      "text/plain": [
       "4"
      ]
     },
     "execution_count": 88,
     "metadata": {},
     "output_type": "execute_result"
    }
   ],
   "source": [
    "len(tuple2)"
   ]
  },
  {
   "cell_type": "code",
   "execution_count": 90,
   "id": "93561695",
   "metadata": {},
   "outputs": [
    {
     "data": {
      "text/plain": [
       "4"
      ]
     },
     "execution_count": 90,
     "metadata": {},
     "output_type": "execute_result"
    }
   ],
   "source": [
    "len(tuple3)"
   ]
  },
  {
   "cell_type": "code",
   "execution_count": 91,
   "id": "ffd6fec5",
   "metadata": {},
   "outputs": [
    {
     "data": {
      "text/plain": [
       "0"
      ]
     },
     "execution_count": 91,
     "metadata": {},
     "output_type": "execute_result"
    }
   ],
   "source": [
    "len(tuple4)"
   ]
  },
  {
   "cell_type": "code",
   "execution_count": 92,
   "id": "f0d0fb38",
   "metadata": {},
   "outputs": [
    {
     "data": {
      "text/plain": [
       "1"
      ]
     },
     "execution_count": 92,
     "metadata": {},
     "output_type": "execute_result"
    }
   ],
   "source": [
    "len(tuple5)"
   ]
  },
  {
   "cell_type": "code",
   "execution_count": 93,
   "id": "4bdcc273",
   "metadata": {},
   "outputs": [],
   "source": [
    "tuple1=(25,35,42,56,76)"
   ]
  },
  {
   "cell_type": "code",
   "execution_count": 94,
   "id": "00d000c6",
   "metadata": {},
   "outputs": [
    {
     "data": {
      "text/plain": [
       "76"
      ]
     },
     "execution_count": 94,
     "metadata": {},
     "output_type": "execute_result"
    }
   ],
   "source": [
    "max(tuple1)"
   ]
  },
  {
   "cell_type": "code",
   "execution_count": 95,
   "id": "121169ac",
   "metadata": {},
   "outputs": [
    {
     "data": {
      "text/plain": [
       "25"
      ]
     },
     "execution_count": 95,
     "metadata": {},
     "output_type": "execute_result"
    }
   ],
   "source": [
    "min(tuple1)"
   ]
  },
  {
   "cell_type": "code",
   "execution_count": 96,
   "id": "f3696e45",
   "metadata": {},
   "outputs": [
    {
     "data": {
      "text/plain": [
       "('v', 'b', 'd')"
      ]
     },
     "execution_count": 96,
     "metadata": {},
     "output_type": "execute_result"
    }
   ],
   "source": [
    "tuple(list1)"
   ]
  },
  {
   "cell_type": "code",
   "execution_count": 98,
   "id": "06dc44b4",
   "metadata": {},
   "outputs": [],
   "source": [
    "dict1={'name':'vinu','age':20}"
   ]
  },
  {
   "cell_type": "code",
   "execution_count": 100,
   "id": "61db49e3",
   "metadata": {},
   "outputs": [
    {
     "name": "stdout",
     "output_type": "stream",
     "text": [
      "vinu\n"
     ]
    }
   ],
   "source": [
    "print(dict1['name'])"
   ]
  },
  {
   "cell_type": "code",
   "execution_count": 101,
   "id": "64a97b42",
   "metadata": {},
   "outputs": [
    {
     "name": "stdout",
     "output_type": "stream",
     "text": [
      "20\n"
     ]
    }
   ],
   "source": [
    "print(dict1['age'])"
   ]
  },
  {
   "cell_type": "code",
   "execution_count": 102,
   "id": "05e61e25",
   "metadata": {},
   "outputs": [],
   "source": [
    "dict1['age']=21"
   ]
  },
  {
   "cell_type": "code",
   "execution_count": 103,
   "id": "aacb6f2e",
   "metadata": {},
   "outputs": [
    {
     "name": "stdout",
     "output_type": "stream",
     "text": [
      "21\n"
     ]
    }
   ],
   "source": [
    "print(dict1['age'])"
   ]
  },
  {
   "cell_type": "code",
   "execution_count": 104,
   "id": "8d757d1e",
   "metadata": {},
   "outputs": [],
   "source": [
    "del dict1['name']"
   ]
  },
  {
   "cell_type": "code",
   "execution_count": 105,
   "id": "f2d5cd1a",
   "metadata": {},
   "outputs": [],
   "source": [
    "dict1.clear()"
   ]
  },
  {
   "cell_type": "code",
   "execution_count": 106,
   "id": "0d59bd92",
   "metadata": {},
   "outputs": [],
   "source": [
    "del dict1"
   ]
  },
  {
   "cell_type": "code",
   "execution_count": 107,
   "id": "31924ef8",
   "metadata": {},
   "outputs": [],
   "source": [
    "dict1={'name':'vinu','age':20}"
   ]
  },
  {
   "cell_type": "code",
   "execution_count": 108,
   "id": "62c93364",
   "metadata": {},
   "outputs": [
    {
     "data": {
      "text/plain": [
       "2"
      ]
     },
     "execution_count": 108,
     "metadata": {},
     "output_type": "execute_result"
    }
   ],
   "source": [
    "len(dict1)"
   ]
  },
  {
   "cell_type": "code",
   "execution_count": 109,
   "id": "a5dcf4da",
   "metadata": {},
   "outputs": [
    {
     "data": {
      "text/plain": [
       "\"{'name': 'vinu', 'age': 20}\""
      ]
     },
     "execution_count": 109,
     "metadata": {},
     "output_type": "execute_result"
    }
   ],
   "source": [
    "str(dict1)"
   ]
  },
  {
   "cell_type": "code",
   "execution_count": 111,
   "id": "2f1e61c4",
   "metadata": {},
   "outputs": [
    {
     "name": "stdout",
     "output_type": "stream",
     "text": [
      "<class 'dict'>\n"
     ]
    }
   ],
   "source": [
    " print(type(dict1))"
   ]
  },
  {
   "cell_type": "code",
   "execution_count": 112,
   "id": "c0016066",
   "metadata": {},
   "outputs": [
    {
     "data": {
      "text/plain": [
       "{'name': 'vinu', 'age': 20}"
      ]
     },
     "execution_count": 112,
     "metadata": {},
     "output_type": "execute_result"
    }
   ],
   "source": [
    "dict1.copy()"
   ]
  },
  {
   "cell_type": "code",
   "execution_count": 113,
   "id": "f0634ec3",
   "metadata": {},
   "outputs": [
    {
     "data": {
      "text/plain": [
       "dict_items([('name', 'vinu'), ('age', 20)])"
      ]
     },
     "execution_count": 113,
     "metadata": {},
     "output_type": "execute_result"
    }
   ],
   "source": [
    "dict1.items()"
   ]
  },
  {
   "cell_type": "code",
   "execution_count": 114,
   "id": "08575377",
   "metadata": {},
   "outputs": [
    {
     "data": {
      "text/plain": [
       "dict_keys(['name', 'age'])"
      ]
     },
     "execution_count": 114,
     "metadata": {},
     "output_type": "execute_result"
    }
   ],
   "source": [
    "dict1.keys()"
   ]
  },
  {
   "cell_type": "code",
   "execution_count": 115,
   "id": "e9b17901",
   "metadata": {},
   "outputs": [],
   "source": [
    "dict2={'sub':'maths'}"
   ]
  },
  {
   "cell_type": "code",
   "execution_count": 116,
   "id": "fbb48701",
   "metadata": {},
   "outputs": [],
   "source": [
    "dict1.update(dict2)"
   ]
  },
  {
   "cell_type": "code",
   "execution_count": 117,
   "id": "31a3c488",
   "metadata": {},
   "outputs": [
    {
     "data": {
      "text/plain": [
       "dict_items([('name', 'vinu'), ('age', 20), ('sub', 'maths')])"
      ]
     },
     "execution_count": 117,
     "metadata": {},
     "output_type": "execute_result"
    }
   ],
   "source": [
    "dict1.items()"
   ]
  },
  {
   "cell_type": "code",
   "execution_count": 118,
   "id": "731dcd62",
   "metadata": {},
   "outputs": [
    {
     "data": {
      "text/plain": [
       "dict_values(['vinu', 20, 'maths'])"
      ]
     },
     "execution_count": 118,
     "metadata": {},
     "output_type": "execute_result"
    }
   ],
   "source": [
    "dict1.values()"
   ]
  },
  {
   "cell_type": "code",
   "execution_count": null,
   "id": "9e5deff3",
   "metadata": {},
   "outputs": [],
   "source": []
  }
 ],
 "metadata": {
  "kernelspec": {
   "display_name": "Python 3 (ipykernel)",
   "language": "python",
   "name": "python3"
  },
  "language_info": {
   "codemirror_mode": {
    "name": "ipython",
    "version": 3
   },
   "file_extension": ".py",
   "mimetype": "text/x-python",
   "name": "python",
   "nbconvert_exporter": "python",
   "pygments_lexer": "ipython3",
   "version": "3.9.12"
  }
 },
 "nbformat": 4,
 "nbformat_minor": 5
}
