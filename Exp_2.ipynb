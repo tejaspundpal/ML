{
 "cells": [
  {
   "cell_type": "code",
   "execution_count": 1,
   "metadata": {},
   "outputs": [
    {
     "name": "stdout",
     "output_type": "stream",
     "text": [
      "Hello,world\n"
     ]
    }
   ],
   "source": [
    "print(\"Hello,world\")"
   ]
  },
  {
   "cell_type": "code",
   "execution_count": 8,
   "metadata": {},
   "outputs": [
    {
     "name": "stdout",
     "output_type": "stream",
     "text": [
      "list1[0]:  physics\n",
      "list2[1:]:  [11, 12, 13, 14, 15]\n",
      "['b', 'c', 'd']\n"
     ]
    }
   ],
   "source": [
    "list1 = ['physics', 'maths', 2000, 2001];\n",
    "list2 = [10,11,12,13,14,15 ];\n",
    "list3 = [\"a\", \"b\", \"c\", \"d\"];\n",
    "\n",
    "print (\"list1[0]: \", list1[0])\n",
    "print (\"list2[1:]: \", list2[1:])\n",
    "list2[2] = 6\n",
    "\n",
    "del list3[0] \n",
    "print(list3)"
   ]
  },
  {
   "cell_type": "code",
   "execution_count": 9,
   "metadata": {},
   "outputs": [
    {
     "name": "stdout",
     "output_type": "stream",
     "text": [
      "5\n",
      "[1, 2, 3, 4, 5, 6]\n",
      "['Hi!', 'Hi!', 'Hi!', 'Hi!']\n",
      "True\n",
      "1 2 3 4 5 "
     ]
    }
   ],
   "source": [
    "l=len([1, 2, 3,4,5])\n",
    "print(l)\n",
    "\n",
    "print([1, 2, 3] + [4, 5, 6])\n",
    "\n",
    "print(['Hi!'] * 4)\n",
    "\n",
    "print(3 in [1, 2, 3])\n",
    "\n",
    "for x in [1,2,3,4,5] : \n",
    " print (x,end = ' ')"
   ]
  },
  {
   "cell_type": "code",
   "execution_count": 10,
   "metadata": {
    "scrolled": true
   },
   "outputs": [
    {
     "name": "stdout",
     "output_type": "stream",
     "text": [
      "tuple1[0]:  DBE\n",
      "tuple2[1:]:  (2, 3, 4, 5)\n"
     ]
    },
    {
     "ename": "TypeError",
     "evalue": "'tuple' object does not support item assignment",
     "output_type": "error",
     "traceback": [
      "\u001b[1;31m---------------------------------------------------------------------------\u001b[0m",
      "\u001b[1;31mTypeError\u001b[0m                                 Traceback (most recent call last)",
      "\u001b[1;32m<ipython-input-10-7b58df2e4c65>\u001b[0m in \u001b[0;36m<module>\u001b[1;34m\u001b[0m\n\u001b[0;32m      8\u001b[0m \u001b[0mprint\u001b[0m \u001b[1;33m(\u001b[0m\u001b[1;34m\"tuple1[0]: \"\u001b[0m\u001b[1;33m,\u001b[0m \u001b[0mtuple1\u001b[0m\u001b[1;33m[\u001b[0m\u001b[1;36m0\u001b[0m\u001b[1;33m]\u001b[0m\u001b[1;33m)\u001b[0m\u001b[1;33m\u001b[0m\u001b[1;33m\u001b[0m\u001b[0m\n\u001b[0;32m      9\u001b[0m \u001b[0mprint\u001b[0m \u001b[1;33m(\u001b[0m\u001b[1;34m\"tuple2[1:]: \"\u001b[0m\u001b[1;33m,\u001b[0m \u001b[0mtuple2\u001b[0m\u001b[1;33m[\u001b[0m\u001b[1;36m1\u001b[0m\u001b[1;33m:\u001b[0m\u001b[1;33m]\u001b[0m\u001b[1;33m)\u001b[0m\u001b[1;33m\u001b[0m\u001b[1;33m\u001b[0m\u001b[0m\n\u001b[1;32m---> 10\u001b[1;33m \u001b[0mtuple2\u001b[0m\u001b[1;33m[\u001b[0m\u001b[1;36m2\u001b[0m\u001b[1;33m]\u001b[0m \u001b[1;33m=\u001b[0m \u001b[1;36m6\u001b[0m \u001b[1;31m# Invalid bcz touple is immuatable\u001b[0m\u001b[1;33m\u001b[0m\u001b[1;33m\u001b[0m\u001b[0m\n\u001b[0m",
      "\u001b[1;31mTypeError\u001b[0m: 'tuple' object does not support item assignment"
     ]
    }
   ],
   "source": [
    "#touple---->\n",
    "tuple1 = ('DBE','SP','CNS',15,25)\n",
    "tuple2 = (1, 2, 3, 4, 5 )\n",
    "tuple3 = \"a\", \"b\", \"c\", \"d\"\n",
    "tuple4 = ();\n",
    "tuple5 = (1,)\n",
    "\n",
    "print (\"tuple1[0]: \", tuple1[0])\n",
    "print (\"tuple2[1:]: \", tuple2[1:])\n",
    "tuple2[2] = 6 # Invalid bcz touple is immuatable\n",
    "del tuple1"
   ]
  },
  {
   "cell_type": "code",
   "execution_count": 11,
   "metadata": {},
   "outputs": [
    {
     "name": "stdout",
     "output_type": "stream",
     "text": [
      "5\n",
      "(1, 2, 3, 4, 5, 6)\n",
      "Hi!Hi!Hi!Hi!\n",
      "True\n",
      "1 2 3 4 5 "
     ]
    }
   ],
   "source": [
    "l=len((1, 2, 3,4,5))\n",
    "print(l)\n",
    "\n",
    "print((1, 2, 3) + (4, 5, 6))\n",
    "\n",
    "print(('Hi!') * 4)\n",
    "\n",
    "print(3 in (1, 2, 3))\n",
    "\n",
    "for x in (1,2,3,4,5) : \n",
    " print (x,end = ' ')"
   ]
  },
  {
   "cell_type": "code",
   "execution_count": 13,
   "metadata": {},
   "outputs": [
    {
     "name": "stdout",
     "output_type": "stream",
     "text": [
      "dict['Name']:  Tejas\n",
      "{'Name': 'Ketan', 'Age': 20, 'Branch': 'CSE'}\n"
     ]
    }
   ],
   "source": [
    "#dictionary\n",
    "dict ={'Name':'Tejas', 'Age':20, 'Branch': \n",
    "'CSE'}\n",
    "print (\"dict['Name']: \", dict['Name'])\n",
    "\n",
    "dict['Name']='Ketan'\n",
    "print(dict)"
   ]
  },
  {
   "cell_type": "code",
   "execution_count": 14,
   "metadata": {},
   "outputs": [
    {
     "name": "stdout",
     "output_type": "stream",
     "text": [
      "{'Age': 20, 'Branch': 'CSE'}\n",
      "{}\n",
      "<class 'dict'>\n"
     ]
    }
   ],
   "source": [
    "del dict['Name'] \n",
    "print(dict)\n",
    "dict.clear()\n",
    "print(dict)\n",
    "del dict\n",
    "print(dict)"
   ]
  },
  {
   "cell_type": "code",
   "execution_count": null,
   "metadata": {},
   "outputs": [],
   "source": []
  }
 ],
 "metadata": {
  "kernelspec": {
   "display_name": "Python 3",
   "language": "python",
   "name": "python3"
  },
  "language_info": {
   "codemirror_mode": {
    "name": "ipython",
    "version": 3
   },
   "file_extension": ".py",
   "mimetype": "text/x-python",
   "name": "python",
   "nbconvert_exporter": "python",
   "pygments_lexer": "ipython3",
   "version": "3.8.5"
  }
 },
 "nbformat": 4,
 "nbformat_minor": 4
}
